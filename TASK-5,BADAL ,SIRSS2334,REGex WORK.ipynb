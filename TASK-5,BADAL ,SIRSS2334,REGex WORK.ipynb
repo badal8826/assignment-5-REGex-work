{
 "cells": [
  {
   "cell_type": "markdown",
   "id": "5308269c",
   "metadata": {},
   "source": [
    "# ASSIGNMENT - 5\n",
    "# Name-BADAL\n",
    "# refrence id - SIRSS2334\n",
    "# college -maharaja surajmal institute of technology"
   ]
  },
  {
   "cell_type": "markdown",
   "id": "109194e8",
   "metadata": {},
   "source": [
    "### Q1. Given a list of integers, write a function to return the sum of all prime numbers in that list."
   ]
  },
  {
   "cell_type": "code",
   "execution_count": 4,
   "id": "2bdc8ddc",
   "metadata": {},
   "outputs": [
    {
     "name": "stdout",
     "output_type": "stream",
     "text": [
      "1 3 5 7 8 10\n",
      "15\n"
     ]
    }
   ],
   "source": [
    "numbers=input(\"\").split(' ')\n",
    "sum=0\n",
    "for n in numbers:\n",
    "    n=int(n)\n",
    "    isPrime=True\n",
    "    if n > 1:\n",
    "       \n",
    "        for i in range(2, n):\n",
    "            if (n % i) == 0:\n",
    "                isPrime=False\n",
    "                break\n",
    "        if isPrime:\n",
    "            sum+=n\n",
    "\n",
    "\n",
    "\n",
    "print(str(sum))"
   ]
  },
  {
   "cell_type": "markdown",
   "id": "748f869e",
   "metadata": {},
   "source": [
    "### Q2. Given a list of integers, write a function to check whether the list is strictly increasing or not."
   ]
  },
  {
   "cell_type": "code",
   "execution_count": 2,
   "id": "92d5677b",
   "metadata": {},
   "outputs": [
    {
     "name": "stdout",
     "output_type": "stream",
     "text": [
      "Original list : [1, 4, 5, 7, 8, 10]\n",
      "Is the list strictly increasing ? : True\n"
     ]
    }
   ],
   "source": [
    "list = [1, 4, 5, 7, 8, 10]\n",
    "  \n",
    "\n",
    "print (\"Original list : \" + str(list))\n",
    "  \n",
    "result = all(i < j for i, j in zip(list,list[1:]))\n",
    "  \n",
    "\n",
    "print (\"Is the list strictly increasing ? : \" + str(result))"
   ]
  },
  {
   "cell_type": "markdown",
   "id": "903f8180",
   "metadata": {},
   "source": [
    "### Q3. Write a function to check whether a given list is expanding or not (the difference between adjacent elements should keep on increasing)."
   ]
  },
  {
   "cell_type": "code",
   "execution_count": 9,
   "id": "8c1f3ba3",
   "metadata": {},
   "outputs": [],
   "source": [
    "def expand(m):\n",
    "    a = abs(m[1] - m[0])\n",
    "    b = abs(m[2] - m[1])\n",
    "    \n",
    "    if a >= b:\n",
    "        return False\n",
    "    \n",
    "    else:\n",
    "        for i in range(3,len(m)):\n",
    "            c = abs(m[i] - m[i-1])\n",
    "            if c <= b:\n",
    "                return False\n",
    "            b = c\n",
    "        else:\n",
    "            return True"
   ]
  },
  {
   "cell_type": "code",
   "execution_count": 15,
   "id": "2fcfeaad",
   "metadata": {},
   "outputs": [
    {
     "data": {
      "text/plain": [
       "False"
      ]
     },
     "execution_count": 15,
     "metadata": {},
     "output_type": "execute_result"
    }
   ],
   "source": [
    "expand([2,8,3,6,8])"
   ]
  },
  {
   "cell_type": "markdown",
   "id": "297f4622",
   "metadata": {},
   "source": [
    "### Q4. Write a function to calculate all permutations of a given string. (Without using itertools)"
   ]
  },
  {
   "cell_type": "code",
   "execution_count": 5,
   "id": "b9206feb",
   "metadata": {},
   "outputs": [
    {
     "name": "stdout",
     "output_type": "stream",
     "text": [
      "Enter the string : BADAL\n",
      "All possible strings are : \n",
      "BADAL  BADLA  BAADL  BAALD  BALDA  BALAD  BDAAL  BDALA  BDAAL  BDALA  BDLAA  BDLAA  BAADL  BAALD  BADAL  BADLA  BALAD  BALDA  BLADA  BLAAD  BLDAA  BLDAA  BLAAD  BLADA  ABDAL  ABDLA  ABADL  ABALD  ABLDA  ABLAD  ADBAL  ADBLA  ADABL  ADALB  ADLBA  ADLAB  AABDL  AABLD  AADBL  AADLB  AALBD  AALDB  ALBDA  ALBAD  ALDBA  ALDAB  ALABD  ALADB  DBAAL  DBALA  DBAAL  DBALA  DBLAA  DBLAA  DABAL  DABLA  DAABL  DAALB  DALBA  DALAB  DABAL  DABLA  DAABL  DAALB  DALBA  DALAB  DLBAA  DLBAA  DLABA  DLAAB  DLABA  DLAAB  ABADL  ABALD  ABDAL  ABDLA  ABLAD  ABLDA  AABDL  AABLD  AADBL  AADLB  AALBD  AALDB  ADBAL  ADBLA  ADABL  ADALB  ADLBA  ADLAB  ALBAD  ALBDA  ALABD  ALADB  ALDBA  ALDAB  LBADA  LBAAD  LBDAA  LBDAA  LBAAD  LBADA  LABDA  LABAD  LADBA  LADAB  LAABD  LAADB  LDBAA  LDBAA  LDABA  LDAAB  LDABA  LDAAB  LABAD  LABDA  LAABD  LAADB  LADBA  LADAB  "
     ]
    }
   ],
   "source": [
    "def permutation(n, ans):\n",
    "    if (len(n) == 0):\n",
    "        print(ans, end = \"  \")\n",
    "        return\n",
    "     \n",
    "    for i in range(len(n)):\n",
    "        ch = n[i]\n",
    "        left = n[0:i]\n",
    "        right = n[i + 1:]\n",
    "        rest = left + right\n",
    "        permutation(rest, ans + ch)\n",
    " \n",
    "\n",
    "ans = \"\"\n",
    " \n",
    "n = input(\"Enter the string : \")\n",
    " \n",
    "print(\"All possible strings are : \")\n",
    "permutation(n, ans)"
   ]
  },
  {
   "cell_type": "code",
   "execution_count": null,
   "id": "1d29c2d8",
   "metadata": {},
   "outputs": [],
   "source": []
  },
  {
   "cell_type": "code",
   "execution_count": null,
   "id": "e10810bb",
   "metadata": {},
   "outputs": [],
   "source": []
  }
 ],
 "metadata": {
  "kernelspec": {
   "display_name": "Python 3",
   "language": "python",
   "name": "python3"
  },
  "language_info": {
   "codemirror_mode": {
    "name": "ipython",
    "version": 3
   },
   "file_extension": ".py",
   "mimetype": "text/x-python",
   "name": "python",
   "nbconvert_exporter": "python",
   "pygments_lexer": "ipython3",
   "version": "3.8.8"
  }
 },
 "nbformat": 4,
 "nbformat_minor": 5
}
